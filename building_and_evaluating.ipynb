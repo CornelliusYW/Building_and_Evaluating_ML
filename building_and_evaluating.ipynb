{
 "cells": [
  {
   "cell_type": "markdown",
   "id": "f9763a86-12ee-44f2-b6bb-75476c1f7223",
   "metadata": {},
   "source": [
    "## Notebook setup & utility helpers"
   ]
  },
  {
   "cell_type": "code",
   "execution_count": 1,
   "id": "0fc52f08-33c3-4ddb-838e-0b1c86201b77",
   "metadata": {},
   "outputs": [],
   "source": [
    "import numpy as np\n",
    "import pandas as pd\n",
    "import matplotlib.pyplot as plt\n",
    "\n",
    "from sklearn.model_selection import train_test_split, StratifiedKFold, cross_validate\n",
    "from sklearn.compose import ColumnTransformer\n",
    "from sklearn.pipeline import Pipeline\n",
    "from sklearn.preprocessing import OneHotEncoder, StandardScaler\n",
    "from sklearn.impute import SimpleImputer\n",
    "from sklearn.metrics import (\n",
    "    classification_report, confusion_matrix, roc_auc_score, average_precision_score,\n",
    "    precision_recall_curve, roc_curve, f1_score, precision_score, recall_score\n",
    ")\n",
    "\n",
    "from sklearn.feature_selection import SelectPercentile, mutual_info_classif\n",
    "from sklearn.linear_model import LogisticRegression\n",
    "from sklearn.tree import DecisionTreeClassifier\n",
    "from sklearn.ensemble import RandomForestClassifier, GradientBoostingClassifier\n",
    "from sklearn.model_selection import GridSearchCV, RandomizedSearchCV\n",
    "\n",
    "rng = 42\n"
   ]
  },
  {
   "cell_type": "markdown",
   "id": "0f082a51-30d2-4f63-83f0-3950d81c1b3c",
   "metadata": {},
   "source": [
    "## Data Loading"
   ]
  },
  {
   "cell_type": "code",
   "execution_count": 2,
   "id": "69096f36-e0d0-4ee2-b494-1be2b72a87d4",
   "metadata": {},
   "outputs": [],
   "source": [
    "csv_path = \"churn.csv\"\n",
    "df = pd.read_csv(csv_path)"
   ]
  },
  {
   "cell_type": "code",
   "execution_count": 3,
   "id": "bfc89a7f-91a9-44d8-b5c7-8018b2d665c6",
   "metadata": {},
   "outputs": [
    {
     "data": {
      "text/html": [
       "<div>\n",
       "<style scoped>\n",
       "    .dataframe tbody tr th:only-of-type {\n",
       "        vertical-align: middle;\n",
       "    }\n",
       "\n",
       "    .dataframe tbody tr th {\n",
       "        vertical-align: top;\n",
       "    }\n",
       "\n",
       "    .dataframe thead th {\n",
       "        text-align: right;\n",
       "    }\n",
       "</style>\n",
       "<table border=\"1\" class=\"dataframe\">\n",
       "  <thead>\n",
       "    <tr style=\"text-align: right;\">\n",
       "      <th></th>\n",
       "      <th>Age</th>\n",
       "      <th>AnnualIncome</th>\n",
       "      <th>Gender</th>\n",
       "      <th>MembershipDuration</th>\n",
       "      <th>Location</th>\n",
       "      <th>Churn</th>\n",
       "    </tr>\n",
       "  </thead>\n",
       "  <tbody>\n",
       "    <tr>\n",
       "      <th>0</th>\n",
       "      <td>55</td>\n",
       "      <td>79645.11</td>\n",
       "      <td>Male</td>\n",
       "      <td>4</td>\n",
       "      <td>Urban</td>\n",
       "      <td>0</td>\n",
       "    </tr>\n",
       "    <tr>\n",
       "      <th>1</th>\n",
       "      <td>50</td>\n",
       "      <td>42648.21</td>\n",
       "      <td>Male</td>\n",
       "      <td>2</td>\n",
       "      <td>Rural</td>\n",
       "      <td>0</td>\n",
       "    </tr>\n",
       "    <tr>\n",
       "      <th>2</th>\n",
       "      <td>54</td>\n",
       "      <td>87496.12</td>\n",
       "      <td>Female</td>\n",
       "      <td>4</td>\n",
       "      <td>Urban</td>\n",
       "      <td>0</td>\n",
       "    </tr>\n",
       "    <tr>\n",
       "      <th>3</th>\n",
       "      <td>44</td>\n",
       "      <td>29755.95</td>\n",
       "      <td>Female</td>\n",
       "      <td>6</td>\n",
       "      <td>Urban</td>\n",
       "      <td>0</td>\n",
       "    </tr>\n",
       "    <tr>\n",
       "      <th>4</th>\n",
       "      <td>50</td>\n",
       "      <td>97709.25</td>\n",
       "      <td>Male</td>\n",
       "      <td>3</td>\n",
       "      <td>Suburban</td>\n",
       "      <td>0</td>\n",
       "    </tr>\n",
       "  </tbody>\n",
       "</table>\n",
       "</div>"
      ],
      "text/plain": [
       "   Age  AnnualIncome  Gender  MembershipDuration  Location  Churn\n",
       "0   55      79645.11    Male                   4     Urban      0\n",
       "1   50      42648.21    Male                   2     Rural      0\n",
       "2   54      87496.12  Female                   4     Urban      0\n",
       "3   44      29755.95  Female                   6     Urban      0\n",
       "4   50      97709.25    Male                   3  Suburban      0"
      ]
     },
     "execution_count": 3,
     "metadata": {},
     "output_type": "execute_result"
    }
   ],
   "source": [
    "df.head()"
   ]
  },
  {
   "cell_type": "code",
   "execution_count": 4,
   "id": "a4ba4500-32f9-4492-a178-34985df15a3f",
   "metadata": {},
   "outputs": [],
   "source": [
    "target = 'Churn' \n",
    "\n",
    "X = df.drop(columns=[target])\n",
    "y = df[target]"
   ]
  },
  {
   "cell_type": "markdown",
   "id": "cc8a5b8d-c4fb-4225-9c5d-19de6a2a05e5",
   "metadata": {},
   "source": [
    "## EDA"
   ]
  },
  {
   "cell_type": "code",
   "execution_count": 5,
   "id": "0c8e7aa4-c4db-4fe8-8c9d-d96b89fcd681",
   "metadata": {},
   "outputs": [
    {
     "name": "stdout",
     "output_type": "stream",
     "text": [
      "shape: (200, 5)\n",
      "class balance: {0: 0.95, 1: 0.05}\n",
      "top missingness:\n",
      " Age                   0.0\n",
      "AnnualIncome          0.0\n",
      "Gender                0.0\n",
      "MembershipDuration    0.0\n",
      "Location              0.0\n",
      "dtype: float64\n",
      "duplicate rows rate: 0.0\n"
     ]
    }
   ],
   "source": [
    "print(\"shape:\", X.shape)\n",
    "print(\"class balance:\", pd.Series(y).value_counts(normalize=True).round(3).to_dict())\n",
    "\n",
    "na_rate = X.isna().mean().sort_values(ascending=False)\n",
    "print(\"top missingness:\\n\", na_rate.head(10))\n",
    "\n",
    "dup_rate = (df.duplicated().mean())\n",
    "print(\"duplicate rows rate:\", round(dup_rate, 4))\n"
   ]
  },
  {
   "cell_type": "markdown",
   "id": "94cef37f-6696-42dd-94de-68561f29a841",
   "metadata": {},
   "source": [
    "## Feature Selection"
   ]
  },
  {
   "cell_type": "code",
   "execution_count": 6,
   "id": "8a1e299d-e049-445b-a81c-c523d29cd9a1",
   "metadata": {},
   "outputs": [],
   "source": [
    "#applied inside a pipeline later (no leakage)\n",
    "selector = SelectPercentile(score_func=mutual_info_classif, percentile=40)"
   ]
  },
  {
   "cell_type": "markdown",
   "id": "029e2485-652a-4227-a50c-bd7d93ddfbd1",
   "metadata": {},
   "source": [
    "## Data Preprocessing"
   ]
  },
  {
   "cell_type": "code",
   "execution_count": 7,
   "id": "0d611128-9a24-4f7f-b6fc-dfacb2603a45",
   "metadata": {},
   "outputs": [],
   "source": [
    "num_cols = X.select_dtypes(include=[np.number]).columns.tolist()\n",
    "cat_cols = X.select_dtypes(exclude=[np.number]).columns.tolist()\n",
    "\n",
    "num_pipe = Pipeline([\n",
    "    (\"impute\", SimpleImputer(strategy=\"median\")),\n",
    "    (\"scale\", StandardScaler())\n",
    "])\n",
    "\n",
    "cat_pipe = Pipeline([\n",
    "    (\"impute\", SimpleImputer(strategy=\"most_frequent\")),\n",
    "    (\"ohe\", OneHotEncoder(handle_unknown=\"ignore\", sparse_output=False))\n",
    "])\n",
    "\n",
    "preprocess = ColumnTransformer([\n",
    "    (\"num\", num_pipe, num_cols),\n",
    "    (\"cat\", cat_pipe, cat_cols)\n",
    "])"
   ]
  },
  {
   "cell_type": "markdown",
   "id": "35f5dc7a-50f1-4bf0-b6d2-b3e33c6eda44",
   "metadata": {},
   "source": [
    "## Data Splitting"
   ]
  },
  {
   "cell_type": "code",
   "execution_count": 8,
   "id": "bf474040-d536-434f-b75e-a194cb1f4438",
   "metadata": {},
   "outputs": [],
   "source": [
    "X_train, X_test, y_train, y_test = train_test_split(\n",
    "    X, y, test_size=0.2, stratify=y, random_state=rng\n",
    ")"
   ]
  },
  {
   "cell_type": "markdown",
   "id": "81870fdc-f9c6-4deb-ad80-b9b6d881d19d",
   "metadata": {},
   "source": [
    "## K-Fold Cross-Validation"
   ]
  },
  {
   "cell_type": "code",
   "execution_count": 9,
   "id": "e19b8100-31f4-4ab3-b957-2399f1920ed8",
   "metadata": {},
   "outputs": [],
   "source": [
    "cv = StratifiedKFold(n_splits=5, shuffle=True, random_state=rng)"
   ]
  },
  {
   "cell_type": "markdown",
   "id": "05a82fcc-eaf1-41af-83c3-dd4bcb25beb0",
   "metadata": {},
   "source": [
    "## Model training fundamentals"
   ]
  },
  {
   "cell_type": "code",
   "execution_count": 10,
   "id": "3dbe9aca-78e6-490c-ab63-5dedfc827857",
   "metadata": {},
   "outputs": [
    {
     "name": "stdout",
     "output_type": "stream",
     "text": [
      "logreg {'test_f1': 0.66, 'test_roc_auc': 1.0, 'test_precision': 0.5, 'test_recall': 1.0}\n",
      "tree {'test_f1': 0.827, 'test_roc_auc': 0.897, 'test_precision': 0.933, 'test_recall': 0.8}\n"
     ]
    }
   ],
   "source": [
    "logreg = Pipeline([\n",
    "    (\"prep\", preprocess),\n",
    "    (\"select\", selector),\n",
    "    (\"clf\", LogisticRegression(max_iter=400, class_weight=\"balanced\", random_state=rng))\n",
    "])\n",
    "\n",
    "tree = Pipeline([\n",
    "    (\"prep\", preprocess),\n",
    "    (\"select\", selector),\n",
    "    (\"clf\", DecisionTreeClassifier(class_weight=\"balanced\", random_state=rng))\n",
    "])\n",
    "\n",
    "for name, model in [(\"logreg\", logreg), (\"tree\", tree)]:\n",
    "    scores = cross_validate(model, X_train, y_train, cv=cv,\n",
    "                            scoring=[\"f1\",\"roc_auc\",\"precision\",\"recall\"], n_jobs=-1)\n",
    "    print(name, {k: round(v.mean(),3) for k,v in scores.items() if k.startswith(\"test_\")})\n"
   ]
  },
  {
   "cell_type": "markdown",
   "id": "eafe1cff-b3b1-41da-b2e6-66a0971ddd59",
   "metadata": {},
   "source": [
    "## Holdout Evaluation"
   ]
  },
  {
   "cell_type": "code",
   "execution_count": 11,
   "id": "fe2d42c5-d002-4a8c-8c17-2a1c5cd2ce23",
   "metadata": {},
   "outputs": [
    {
     "name": "stdout",
     "output_type": "stream",
     "text": [
      "logreg holdout\n",
      "              precision    recall  f1-score   support\n",
      "\n",
      "           0      1.000     0.974     0.987        38\n",
      "           1      0.667     1.000     0.800         2\n",
      "\n",
      "    accuracy                          0.975        40\n",
      "   macro avg      0.833     0.987     0.893        40\n",
      "weighted avg      0.983     0.975     0.977        40\n",
      "\n",
      "confusion matrix:\n",
      " [[37  1]\n",
      " [ 0  2]]\n",
      "roc_auc: 1.0\n",
      "pr_auc : 1.0\n",
      "\n",
      "tree holdout\n",
      "              precision    recall  f1-score   support\n",
      "\n",
      "           0      1.000     1.000     1.000        38\n",
      "           1      1.000     1.000     1.000         2\n",
      "\n",
      "    accuracy                          1.000        40\n",
      "   macro avg      1.000     1.000     1.000        40\n",
      "weighted avg      1.000     1.000     1.000        40\n",
      "\n",
      "confusion matrix:\n",
      " [[38  0]\n",
      " [ 0  2]]\n",
      "roc_auc: 1.0\n",
      "pr_auc : 1.0\n"
     ]
    }
   ],
   "source": [
    "def eval_holdout(model, X_te, y_te):\n",
    "    y_pred = model.predict(X_te)\n",
    "    y_proba = model.predict_proba(X_te)[:,1]\n",
    "    print(classification_report(y_te, y_pred, digits=3))\n",
    "    print(\"confusion matrix:\\n\", confusion_matrix(y_te, y_pred))\n",
    "    print(\"roc_auc:\", round(roc_auc_score(y_te, y_proba), 3))\n",
    "    print(\"pr_auc :\", round(average_precision_score(y_te, y_proba), 3))\n",
    "\n",
    "logreg.fit(X_train, y_train);   print(\"logreg holdout\"); eval_holdout(logreg, X_test, y_test)\n",
    "tree.fit(X_train, y_train);     print(\"\\ntree holdout\");  eval_holdout(tree,  X_test, y_test)"
   ]
  },
  {
   "cell_type": "markdown",
   "id": "13fe4199-d5d1-4b50-a658-ce0b6a5e9f00",
   "metadata": {},
   "source": [
    "## roc & pr plots"
   ]
  },
  {
   "cell_type": "code",
   "execution_count": 12,
   "id": "0b2202f3-897b-4a00-9b46-db74daa5a35d",
   "metadata": {},
   "outputs": [
    {
     "data": {
      "image/png": "[encoded data removed]",
      "text/plain": [
       "<Figure size 640x480 with 1 Axes>"
      ]
     },
     "metadata": {},
     "output_type": "display_data"
    },
    {
     "data": {
      "image/png": "[encoded data removed]",
      "text/plain": [
       "<Figure size 640x480 with 1 Axes>"
      ]
     },
     "metadata": {},
     "output_type": "display_data"
    }
   ],
   "source": [
    "best = logreg  # switch to model you want to display\n",
    "y_proba = best.predict_proba(X_test)[:,1]\n",
    "fpr, tpr, _ = roc_curve(y_test, y_proba)\n",
    "prec, rec, _ = precision_recall_curve(y_test, y_proba)\n",
    "\n",
    "plt.figure(); plt.plot(fpr, tpr); plt.xlabel(\"fpr\"); plt.ylabel(\"tpr\"); plt.title(\"roc\")\n",
    "plt.figure(); plt.plot(rec, prec); plt.xlabel(\"recall\"); plt.ylabel(\"precision\"); plt.title(\"precision-recall\")\n",
    "plt.show()"
   ]
  },
  {
   "cell_type": "markdown",
   "id": "7860d781-852b-493e-9162-75e473de039e",
   "metadata": {},
   "source": [
    "## Tuning"
   ]
  },
  {
   "cell_type": "code",
   "execution_count": 13,
   "id": "b6b6c812-5bed-45cc-a56f-5948b3e6550d",
   "metadata": {},
   "outputs": [
    {
     "name": "stdout",
     "output_type": "stream",
     "text": [
      "best logreg: {'clf__C': 10.0, 'clf__solver': 'lbfgs'}\n",
      "holdout tuned\n",
      "              precision    recall  f1-score   support\n",
      "\n",
      "           0      1.000     0.974     0.987        38\n",
      "           1      0.667     1.000     0.800         2\n",
      "\n",
      "    accuracy                          0.975        40\n",
      "   macro avg      0.833     0.987     0.893        40\n",
      "weighted avg      0.983     0.975     0.977        40\n",
      "\n",
      "confusion matrix:\n",
      " [[37  1]\n",
      " [ 0  2]]\n",
      "roc_auc: 1.0\n",
      "pr_auc : 1.0\n",
      "\n",
      "best tree: {'clf__min_samples_split': 2, 'clf__min_samples_leaf': 5, 'clf__max_depth': 11}\n",
      "holdout tuned\n",
      "              precision    recall  f1-score   support\n",
      "\n",
      "           0      1.000     0.974     0.987        38\n",
      "           1      0.667     1.000     0.800         2\n",
      "\n",
      "    accuracy                          0.975        40\n",
      "   macro avg      0.833     0.987     0.893        40\n",
      "weighted avg      0.983     0.975     0.977        40\n",
      "\n",
      "confusion matrix:\n",
      " [[37  1]\n",
      " [ 0  2]]\n",
      "roc_auc: 0.993\n",
      "pr_auc : 0.833\n"
     ]
    }
   ],
   "source": [
    "grid = GridSearchCV(\n",
    "    Pipeline([(\"prep\", preprocess), (\"select\", selector),\n",
    "              (\"clf\", LogisticRegression(max_iter=500, class_weight=\"balanced\", random_state=rng))]),\n",
    "    param_grid={\"clf__C\":[0.1,1.0,3.0,10.0], \"clf__solver\":[\"lbfgs\",\"liblinear\"]},\n",
    "    scoring=\"f1\", cv=cv, n_jobs=-1\n",
    ")\n",
    "grid.fit(X_train, y_train)\n",
    "best_logreg = grid.best_estimator_\n",
    "print(\"best logreg:\", grid.best_params_); print(\"holdout tuned\"); eval_holdout(best_logreg, X_test, y_test)\n",
    "\n",
    "param_dist = {\n",
    "    \"clf__max_depth\": [None] + list(range(2, 21)),\n",
    "    \"clf__min_samples_split\": list(range(2, 51, 4)),\n",
    "    \"clf__min_samples_leaf\": list(range(1, 31, 4)),\n",
    "}\n",
    "rand = RandomizedSearchCV(\n",
    "    Pipeline([(\"prep\", preprocess), (\"select\", selector),\n",
    "              (\"clf\", DecisionTreeClassifier(class_weight=\"balanced\", random_state=rng))]),\n",
    "    param_distributions=param_dist, n_iter=40, scoring=\"f1\", cv=cv, n_jobs=-1, random_state=rng\n",
    ")\n",
    "rand.fit(X_train, y_train)\n",
    "best_tree = rand.best_estimator_\n",
    "print(\"\\nbest tree:\", rand.best_params_); print(\"holdout tuned\"); eval_holdout(best_tree, X_test, y_test)"
   ]
  },
  {
   "cell_type": "markdown",
   "id": "d582d024-7dc4-4b93-bd7a-d316b3fc3157",
   "metadata": {},
   "source": [
    "## Ensemble Model"
   ]
  },
  {
   "cell_type": "code",
   "execution_count": 14,
   "id": "e279d345-c4c7-4b7b-adc9-4a6512b6c4bf",
   "metadata": {},
   "outputs": [
    {
     "name": "stdout",
     "output_type": "stream",
     "text": [
      "rf {'test_f1': 0.75, 'test_roc_auc': 0.964}\n",
      "gb {'test_f1': 0.333, 'test_roc_auc': 0.92}\n",
      "\n",
      "rf holdout\n",
      "              precision    recall  f1-score   support\n",
      "\n",
      "           0      1.000     1.000     1.000        38\n",
      "           1      1.000     1.000     1.000         2\n",
      "\n",
      "    accuracy                          1.000        40\n",
      "   macro avg      1.000     1.000     1.000        40\n",
      "weighted avg      1.000     1.000     1.000        40\n",
      "\n",
      "confusion matrix:\n",
      " [[38  0]\n",
      " [ 0  2]]\n",
      "roc_auc: 1.0\n",
      "pr_auc : 1.0\n",
      "\n",
      "gb holdout\n",
      "              precision    recall  f1-score   support\n",
      "\n",
      "           0      1.000     1.000     1.000        38\n",
      "           1      1.000     1.000     1.000         2\n",
      "\n",
      "    accuracy                          1.000        40\n",
      "   macro avg      1.000     1.000     1.000        40\n",
      "weighted avg      1.000     1.000     1.000        40\n",
      "\n",
      "confusion matrix:\n",
      " [[38  0]\n",
      " [ 0  2]]\n",
      "roc_auc: 1.0\n",
      "pr_auc : 1.0\n"
     ]
    }
   ],
   "source": [
    "rf = Pipeline([\n",
    "    (\"prep\", preprocess),\n",
    "    (\"select\", selector),\n",
    "    (\"clf\", RandomForestClassifier(\n",
    "        n_estimators=300, min_samples_split=10, class_weight=\"balanced\",\n",
    "        n_jobs=-1, random_state=rng\n",
    "    ))\n",
    "])\n",
    "\n",
    "gb = Pipeline([\n",
    "    (\"prep\", preprocess),\n",
    "    (\"select\", selector),\n",
    "    (\"clf\", GradientBoostingClassifier(\n",
    "        learning_rate=0.05, n_estimators=300, max_depth=3, random_state=rng\n",
    "    ))\n",
    "])\n",
    "\n",
    "for name, model in [(\"rf\", rf), (\"gb\", gb)]:\n",
    "    scores = cross_validate(model, X_train, y_train, cv=cv, scoring=[\"f1\",\"roc_auc\"], n_jobs=-1)\n",
    "    print(name, {k: round(v.mean(),3) for k,v in scores.items() if k.startswith(\"test_\")})\n",
    "\n",
    "rf.fit(X_train, y_train); print(\"\\nrf holdout\"); eval_holdout(rf, X_test, y_test)\n",
    "gb.fit(X_train, y_train); print(\"\\ngb holdout\"); eval_holdout(gb, X_test, y_test)"
   ]
  },
  {
   "cell_type": "code",
   "execution_count": null,
   "id": "cdbc9afe-4c19-44c9-bfa4-7b99c246ad49",
   "metadata": {},
   "outputs": [],
   "source": []
  }
 ],
 "metadata": {
  "kernelspec": {
   "display_name": "Python 3 (ipykernel)",
   "language": "python",
   "name": "python3"
  },
  "language_info": {
   "codemirror_mode": {
    "name": "ipython",
    "version": 3
   },
   "file_extension": ".py",
   "mimetype": "text/x-python",
   "name": "python",
   "nbconvert_exporter": "python",
   "pygments_lexer": "ipython3",
   "version": "3.11.5"
  }
 },
 "nbformat": 4,
 "nbformat_minor": 5
}
